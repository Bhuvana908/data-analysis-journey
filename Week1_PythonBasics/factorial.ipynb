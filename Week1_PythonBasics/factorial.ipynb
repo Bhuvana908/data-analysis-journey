{
  "nbformat": 4,
  "nbformat_minor": 0,
  "metadata": {
    "colab": {
      "provenance": []
    },
    "kernelspec": {
      "name": "python3",
      "display_name": "Python 3"
    },
    "language_info": {
      "name": "python"
    }
  },
  "cells": [
    {
      "cell_type": "markdown",
      "source": [
        "# Factorial Calculator Project\n",
        "This notebook calculates the factorial of a given number using a recursive function.  \n",
        "\n",
        "Users can:\n",
        "1. Input any non-negative integer\n",
        "2. Compute its factorial using recursion\n",
        "3. See the result printed on the screen\n",
        "\n",
        "This project demonstrates the use of **Python functions, recursion, conditional statements, and user input handling**.\n"
      ],
      "metadata": {
        "id": "mkIkz36kcIsg"
      }
    },
    {
      "cell_type": "code",
      "source": [
        "def factorial(n):\n",
        "  if n==0 or n==1:\n",
        "    return 1\n",
        "  return n*factorial(n-1)\n",
        "n=int(input(\"Enter the number:\"))\n",
        "print(\"The factorial of given number is\", factorial(n))"
      ],
      "metadata": {
        "colab": {
          "base_uri": "https://localhost:8080/"
        },
        "id": "J3U6fOiXcJLM",
        "outputId": "941c130f-76d9-4d38-8828-54fbf2cd9b99"
      },
      "execution_count": 5,
      "outputs": [
        {
          "output_type": "stream",
          "name": "stdout",
          "text": [
            "Enter the number:5\n",
            "The factorial of given number is 120\n"
          ]
        }
      ]
    }
  ]
}