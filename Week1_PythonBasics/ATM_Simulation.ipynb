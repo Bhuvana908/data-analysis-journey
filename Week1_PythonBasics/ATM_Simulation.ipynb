{
  "nbformat": 4,
  "nbformat_minor": 0,
  "metadata": {
    "colab": {
      "provenance": []
    },
    "kernelspec": {
      "name": "python3",
      "display_name": "Python 3"
    },
    "language_info": {
      "name": "python"
    }
  },
  "cells": [
    {
      "cell_type": "markdown",
      "source": [
        "# ATM Simulation Project\n",
        "This notebook simulates a simple ATM system.  \n",
        "Users can:\n",
        "1. Check account balance\n",
        "2. Deposit money\n",
        "3. Withdraw money\n",
        "4. Exit the ATM\n",
        "\n",
        "\n",
        "\n",
        "This project demonstrates the use of Python functions, loops, conditionals, and global variables."
      ],
      "metadata": {
        "id": "WG0lQ5KUbEom"
      }
    },
    {
      "cell_type": "code",
      "source": [
        "balance=1000\n",
        "def showmenu():\n",
        "  print(\"---ATM Menu---\")\n",
        "  print(\"1. Check Balance\")\n",
        "  print(\"2.Deposit Money\")\n",
        "  print(\"3.Withdraw Money\")\n",
        "  print(\"4.Exit\")\n",
        "def showbalance():\n",
        "  print(f\"The current balance is ${balance}\")\n",
        "def deposit():\n",
        "  global balance\n",
        "  amount=float(input(\"Enter the amount:\"))\n",
        "  if amount>0:\n",
        "    balance+=amount\n",
        "    print(f\"${amount} deposited successfully!\")\n",
        "  else:\n",
        "    print(\"Invalid amount!\")\n",
        "def withdraw():\n",
        "  global balance\n",
        "  amount=float(input(\"Enter the amount:\"))\n",
        "  if(amount<=0):\n",
        "    print(\"Invalid amount\")\n",
        "  elif(amount>balance):\n",
        "    print(\"Insufficient balance\")\n",
        "  else:\n",
        "    balance-=amount\n",
        "    print(f\"${amount} withdrawn successfully!\")\n",
        "\n",
        "while(True):\n",
        "  showmenu()\n",
        "  choice=input(\"Select an option(1-4):\")\n",
        "  if choice==\"1\":\n",
        "    showbalance()\n",
        "  elif choice==\"2\":\n",
        "    deposit()\n",
        "  elif choice==\"3\":\n",
        "    withdraw()\n",
        "  elif choice==\"4\":\n",
        "    print(\"Thankyou for choosing the ATM\")\n",
        "    break;\n",
        "  else:\n",
        "    print(\"Invalid choice\")"
      ],
      "metadata": {
        "colab": {
          "base_uri": "https://localhost:8080/"
        },
        "id": "qquvN-KObJ8q",
        "outputId": "f2d1b02e-0ef1-421c-adcd-18eec38fa6a0"
      },
      "execution_count": 4,
      "outputs": [
        {
          "output_type": "stream",
          "name": "stdout",
          "text": [
            "---ATM Menu---\n",
            "1. Check Balance\n",
            "2.Deposit Money\n",
            "3.Withdraw Money\n",
            "4.Exit\n",
            "Select an option(1-4):1\n",
            "The current balance is $1000\n",
            "---ATM Menu---\n",
            "1. Check Balance\n",
            "2.Deposit Money\n",
            "3.Withdraw Money\n",
            "4.Exit\n",
            "Select an option(1-4):2\n",
            "Enter the amount:3000\n",
            "$3000.0 deposited successfully!\n",
            "---ATM Menu---\n",
            "1. Check Balance\n",
            "2.Deposit Money\n",
            "3.Withdraw Money\n",
            "4.Exit\n",
            "Select an option(1-4):1\n",
            "The current balance is $4000.0\n",
            "---ATM Menu---\n",
            "1. Check Balance\n",
            "2.Deposit Money\n",
            "3.Withdraw Money\n",
            "4.Exit\n",
            "Select an option(1-4):4\n",
            "Thankyou for choosing the ATM\n"
          ]
        }
      ]
    }
  ]
}