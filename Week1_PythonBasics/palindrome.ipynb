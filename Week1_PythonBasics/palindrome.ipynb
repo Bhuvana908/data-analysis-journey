{
  "nbformat": 4,
  "nbformat_minor": 0,
  "metadata": {
    "colab": {
      "provenance": []
    },
    "kernelspec": {
      "name": "python3",
      "display_name": "Python 3"
    },
    "language_info": {
      "name": "python"
    }
  },
  "cells": [
    {
      "cell_type": "markdown",
      "source": [
        "# Palindrome Number Checker Project\n",
        "This notebook checks whether a given number is a **palindrome**.  \n",
        "\n",
        "Users can:\n",
        "1. Input any positive integer\n",
        "2. The program reverses the number and compares it with the original\n",
        "3. Prints \"Palindrome\" if the number reads the same forwards and backwards, otherwise \"Not palindrome\"\n",
        "\n",
        "This project demonstrates the use of **Python functions, loops, arithmetic operations, and conditional statements**.\n"
      ],
      "metadata": {
        "id": "X4StQSK7esHb"
      }
    },
    {
      "cell_type": "code",
      "source": [
        "def isPalindrome(n):\n",
        "  original=n\n",
        "  reversed=0\n",
        "  while n>0:\n",
        "    digit=n%10\n",
        "    reversed=reversed*10+digit\n",
        "    n=n//10\n",
        "  if reversed==original:\n",
        "    print(\"Palindrome\")\n",
        "  else:\n",
        "    print(\"Not palindrome\")\n",
        "\n",
        "n=int(input(\"Enter the number:\"))\n",
        "isPalindrome(n)"
      ],
      "metadata": {
        "colab": {
          "base_uri": "https://localhost:8080/"
        },
        "id": "v2oBIRrHesX_",
        "outputId": "00383ef1-dcbe-4a70-a8f1-18cffb8fcb17"
      },
      "execution_count": 7,
      "outputs": [
        {
          "output_type": "stream",
          "name": "stdout",
          "text": [
            "Enter the number:121\n",
            "Palindrome\n"
          ]
        }
      ]
    }
  ]
}