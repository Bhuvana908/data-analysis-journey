{
  "nbformat": 4,
  "nbformat_minor": 0,
  "metadata": {
    "colab": {
      "provenance": []
    },
    "kernelspec": {
      "name": "python3",
      "display_name": "Python 3"
    },
    "language_info": {
      "name": "python"
    }
  },
  "cells": [
    {
      "cell_type": "markdown",
      "source": [
        "# Pandas DataFrame Operations\n",
        "This notebook demonstrates how to create and manipulate a **Pandas DataFrame** in Python.  \n",
        "\n",
        "Users can:\n",
        "1. Create a DataFrame from a dictionary  \n",
        "2. Access specific columns, rows, and sub-sections using `iloc` and `loc`  \n",
        "3. Slice rows and columns  \n",
        "4. Retrieve multiple columns at once  \n",
        "5. Delete a column using `drop()`  \n",
        "6. Modify column values  \n",
        "7. Rename columns  \n",
        "8. Select specific rows and columns using indexing  \n",
        "\n",
        "This project demonstrates the use of **Pandas for data manipulation and analysis**, which is a core skill for **data analysts and data scientists**.\n"
      ],
      "metadata": {
        "id": "6XzP9fTvvvB-"
      }
    },
    {
      "cell_type": "code",
      "source": [
        "import pandas as pd\n",
        "dict={'Name':['John', 'Alice', 'Bob', 'Eve'], 'Age':[25,30,22,35], 'Gender':['Male', 'Female', 'Male', 'Female'], 'Salary':[50000,55000,40000,70000]}\n",
        "df=pd.DataFrame(dict)\n",
        "print(df)\n",
        "\n",
        "#Accessing the column\n",
        "print(\"Second column:\")\n",
        "print(df['Age'])\n",
        "#Accessing rows by index print(\"Second row:\")\n",
        "print(df.iloc[1])\n",
        "#Accessing multiple rows and columns\n",
        "print(\"First three rows and first two columns:\")\n",
        "print(df.loc[0:2, ['Name', 'Age']])\n",
        "\n",
        "#Slicing using iloc #Slicing rows\n",
        "print(\"First 4 rows:\")\n",
        "print(df.iloc[0:4])\n",
        "#Slicing columns\n",
        "print(\"All two rows and first two columns\")\n",
        "print(df.iloc[:,0:2])\n",
        "print(\"Value at 3rd row and 4th column is\")\n",
        "print(df.iloc[2,3])\n",
        "\n",
        "#To retrieve columns\n",
        "print(df[['Name', 'Age']])\n",
        "\n",
        "#To delete column\n",
        "df.drop(\"Age\", axis=1, inplace=True)\n",
        "print(df)\n",
        "\n",
        "#Modifying the column\n",
        "df['Salary']=df['Salary']+5000\n",
        "print(df)\n",
        "\n",
        "#Renaming a column\n",
        "df.rename(columns={'Salary':'Sal'}, inplace=True)\n",
        "print(df)\n",
        "\n",
        "#Selecting specific columns\n",
        "df_with_index=df.set_index('Name')\n",
        "selection=df_with_index.loc[['John', 'Bob'], ['Gender', 'Sal']]\n",
        "print(\"After selecting specific columns:\")\n",
        "print(selection)"
      ],
      "metadata": {
        "colab": {
          "base_uri": "https://localhost:8080/"
        },
        "id": "34GlQl-Wu38A",
        "outputId": "a9de98a6-e769-450b-9f9a-9a4a3272caf4"
      },
      "execution_count": 2,
      "outputs": [
        {
          "output_type": "stream",
          "name": "stdout",
          "text": [
            "    Name  Age  Gender  Salary\n",
            "0   John   25    Male   50000\n",
            "1  Alice   30  Female   55000\n",
            "2    Bob   22    Male   40000\n",
            "3    Eve   35  Female   70000\n",
            "Second column:\n",
            "0    25\n",
            "1    30\n",
            "2    22\n",
            "3    35\n",
            "Name: Age, dtype: int64\n",
            "Name       Alice\n",
            "Age           30\n",
            "Gender    Female\n",
            "Salary     55000\n",
            "Name: 1, dtype: object\n",
            "First three rows and first two columns:\n",
            "    Name  Age\n",
            "0   John   25\n",
            "1  Alice   30\n",
            "2    Bob   22\n",
            "First 4 rows:\n",
            "    Name  Age  Gender  Salary\n",
            "0   John   25    Male   50000\n",
            "1  Alice   30  Female   55000\n",
            "2    Bob   22    Male   40000\n",
            "3    Eve   35  Female   70000\n",
            "All two rows and first two columns\n",
            "    Name  Age\n",
            "0   John   25\n",
            "1  Alice   30\n",
            "2    Bob   22\n",
            "3    Eve   35\n",
            "Value at 3rd row and 4th column is\n",
            "40000\n",
            "    Name  Age\n",
            "0   John   25\n",
            "1  Alice   30\n",
            "2    Bob   22\n",
            "3    Eve   35\n",
            "    Name  Gender  Salary\n",
            "0   John    Male   50000\n",
            "1  Alice  Female   55000\n",
            "2    Bob    Male   40000\n",
            "3    Eve  Female   70000\n",
            "    Name  Gender  Salary\n",
            "0   John    Male   55000\n",
            "1  Alice  Female   60000\n",
            "2    Bob    Male   45000\n",
            "3    Eve  Female   75000\n",
            "    Name  Gender    Sal\n",
            "0   John    Male  55000\n",
            "1  Alice  Female  60000\n",
            "2    Bob    Male  45000\n",
            "3    Eve  Female  75000\n",
            "After selecting specific columns:\n",
            "     Gender    Sal\n",
            "Name              \n",
            "John   Male  55000\n",
            "Bob    Male  45000\n"
          ]
        }
      ]
    }
  ]
}