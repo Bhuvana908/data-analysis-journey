{
  "nbformat": 4,
  "nbformat_minor": 0,
  "metadata": {
    "colab": {
      "provenance": []
    },
    "kernelspec": {
      "name": "python3",
      "display_name": "Python 3"
    },
    "language_info": {
      "name": "python"
    }
  },
  "cells": [
    {
      "cell_type": "markdown",
      "source": [
        "# Working with Pandas Series 📊\n",
        "\n",
        "This notebook demonstrates different ways to work with **Pandas Series**, which are one-dimensional labeled arrays in Python.  \n",
        "\n",
        "### 1. Creating and Accessing Series Elements\n",
        "- Create a Pandas Series from a NumPy array.  \n",
        "- Access elements using **indexing, slicing, and multiple indices**.  \n",
        "- Retrieve subsets like **first 5** and **last 5** elements.  \n",
        "\n",
        "### 2. Performing Operations on Series\n",
        "- Create two labeled Series and perform **arithmetic operations** like addition.  \n",
        "- Compare two Series element-wise using logical operators.  \n",
        "- Apply **bitwise logical operations** on Series.  \n",
        "\n",
        "### 3. Series from a Dictionary (Fruit Protein Example)\n",
        "- Create a Series from a dictionary with fruit names as index and protein content as values.  \n",
        "- Apply **conditional filtering** (e.g., values > 2, between 1 and 2).  \n",
        "- **Modify values** directly by index label (e.g., update Mango’s protein content).  \n",
        "\n",
        "### Key Learning Outcomes\n",
        "✔ Understanding **Series creation** from arrays and dictionaries.  \n",
        "✔ Applying **indexing and slicing** to access data.  \n",
        "✔ Performing **vectorized arithmetic and logical operations** on Series.  \n",
        "✔ Using **conditional filtering** to query data.  \n",
        "✔ **Updating Series values** directly via labels.  \n"
      ],
      "metadata": {
        "id": "GrEOBTxo6J14"
      }
    },
    {
      "cell_type": "code",
      "source": [
        "import pandas as pd\n",
        "import numpy as np\n",
        "data = np.array(['g', 'e', 'e', 'k', 's', 'f','o', 'r', 'g', 'e', 'e', 'k', 's'])\n",
        "ser = pd.Series(data)\n",
        "print(ser)\n",
        "\n",
        "#Accesing elements\n",
        "#using index\n",
        "print(\"Third element in the series:\")\n",
        "print(ser[3])\n",
        "#first 5 elements\n",
        "print(\"First five elements in the series:\")\n",
        "print(ser[0:5])\n",
        "#Last 5 elements\n",
        "print(\"Last five elements in the series:\")\n",
        "print(ser[-5:])\n",
        "#Accesing multiple elements\n",
        "print(ser[[0,3]])"
      ],
      "metadata": {
        "colab": {
          "base_uri": "https://localhost:8080/"
        },
        "id": "UF5kWsKNyXvt",
        "outputId": "7a22c759-ed17-4bb6-a083-e2323cb2e606"
      },
      "execution_count": 5,
      "outputs": [
        {
          "output_type": "stream",
          "name": "stdout",
          "text": [
            "0     g\n",
            "1     e\n",
            "2     e\n",
            "3     k\n",
            "4     s\n",
            "5     f\n",
            "6     o\n",
            "7     r\n",
            "8     g\n",
            "9     e\n",
            "10    e\n",
            "11    k\n",
            "12    s\n",
            "dtype: object\n",
            "Third element in the series:\n",
            "k\n",
            "First five elements in the series:\n",
            "0    g\n",
            "1    e\n",
            "2    e\n",
            "3    k\n",
            "4    s\n",
            "dtype: object\n",
            "Last five elements in the series:\n",
            "8     g\n",
            "9     e\n",
            "10    e\n",
            "11    k\n",
            "12    s\n",
            "dtype: object\n",
            "0    g\n",
            "3    k\n",
            "dtype: object\n"
          ]
        }
      ]
    },
    {
      "cell_type": "code",
      "source": [
        "import pandas as pd\n",
        "s1=pd.Series([1,2,3], index=['a', 'b', 'c'])\n",
        "s2=pd.Series([4,5,6], index=['a', 'b', 'c'])\n",
        "\n",
        "#Adding s1 and s2\n",
        "print(\"Addition of two series:\")\n",
        "print(s1+s2)\n",
        "\n",
        "#comparing two series\n",
        "print(\"Comparison of two series:\")\n",
        "print(s1==s2)\n",
        "\n",
        "#Applying logical AND\n",
        "print(\"Logical operation:\")\n",
        "print(s1&s2)"
      ],
      "metadata": {
        "colab": {
          "base_uri": "https://localhost:8080/"
        },
        "id": "K4Gv7lHF1K9S",
        "outputId": "4cdb343d-429e-4844-f9ae-0a1e78872ee9"
      },
      "execution_count": 8,
      "outputs": [
        {
          "output_type": "stream",
          "name": "stdout",
          "text": [
            "Addition of two series:\n",
            "a    5\n",
            "b    7\n",
            "c    9\n",
            "dtype: int64\n",
            "Comparison of two series:\n",
            "a    False\n",
            "b    False\n",
            "c    False\n",
            "dtype: bool\n",
            "Logical operation:\n",
            "a    0\n",
            "b    0\n",
            "c    2\n",
            "dtype: int64\n"
          ]
        }
      ]
    },
    {
      "cell_type": "code",
      "source": [
        "import pandas as pd\n",
        "fruit_protein = {\n",
        "    \"Avocado\": 2.0,\n",
        "    \"Guava\": 2.6,\n",
        "    \"Blackberries\": 2.0,\n",
        "    \"Oranges\": 0.9,\n",
        "    \"Banana\": 1.1,\n",
        "    \"Apples\": 0.3,\n",
        "    \"Kiwi\": 1.1,\n",
        "    \"Pomegranate\": 1.7,\n",
        "    \"Mango\": 0.8,\n",
        "    \"Cherries\": 1.0\n",
        "}\n",
        "s2=pd.Series(fruit_protein,name='Protein')\n",
        "print(s2)\n",
        "\n",
        "# fruits names with their values greater than 1.5\n",
        "print(s2[s2>2])\n",
        "# fruits names with their values greater than 1 and less than 2\n",
        "print(s2[(s2>1)&(s2<2)])\n",
        "#Modifying value\n",
        "s2['Mango']=2.2\n",
        "print(s2)"
      ],
      "metadata": {
        "colab": {
          "base_uri": "https://localhost:8080/"
        },
        "id": "CHvQ2r844rWH",
        "outputId": "5b8377f2-24ac-4be4-b61d-a7f5c0ce894e"
      },
      "execution_count": 11,
      "outputs": [
        {
          "output_type": "stream",
          "name": "stdout",
          "text": [
            "Avocado         2.0\n",
            "Guava           2.6\n",
            "Blackberries    2.0\n",
            "Oranges         0.9\n",
            "Banana          1.1\n",
            "Apples          0.3\n",
            "Kiwi            1.1\n",
            "Pomegranate     1.7\n",
            "Mango           0.8\n",
            "Cherries        1.0\n",
            "Name: Protein, dtype: float64\n",
            "Guava    2.6\n",
            "Name: Protein, dtype: float64\n",
            "Banana         1.1\n",
            "Kiwi           1.1\n",
            "Pomegranate    1.7\n",
            "Name: Protein, dtype: float64\n",
            "Avocado         2.0\n",
            "Guava           2.6\n",
            "Blackberries    2.0\n",
            "Oranges         0.9\n",
            "Banana          1.1\n",
            "Apples          0.3\n",
            "Kiwi            1.1\n",
            "Pomegranate     1.7\n",
            "Mango           2.2\n",
            "Cherries        1.0\n",
            "Name: Protein, dtype: float64\n"
          ]
        }
      ]
    }
  ]
}