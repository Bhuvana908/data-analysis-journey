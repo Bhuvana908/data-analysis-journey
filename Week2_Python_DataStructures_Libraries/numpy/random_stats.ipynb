{
  "nbformat": 4,
  "nbformat_minor": 0,
  "metadata": {
    "colab": {
      "provenance": []
    },
    "kernelspec": {
      "name": "python3",
      "display_name": "Python 3"
    },
    "language_info": {
      "name": "python"
    }
  },
  "cells": [
    {
      "cell_type": "markdown",
      "source": [
        "# NumPy Statistical Operations 📊\n",
        "This notebook demonstrates how to generate random numbers and perform basic statistical operations using the **NumPy** library in Python.  \n",
        "\n",
        "Users can:\n",
        "1. Generate a random array using `np.random.rand()`  \n",
        "2. Calculate the mean of the array  \n",
        "3. Find the maximum and minimum elements  \n",
        "4. Compute the standard deviation  \n",
        "\n",
        "This project demonstrates the use of **NumPy random number generation and statistical functions**, which are essential for **data analysis and machine learning**.\n"
      ],
      "metadata": {
        "id": "StcwB0UCexTu"
      }
    },
    {
      "cell_type": "code",
      "source": [
        "import numpy as np\n",
        "\n",
        "rand_arr=np.random.rand(10)\n",
        "\n",
        "print(\"Original array:\", rand_arr)\n",
        "print(\"Mean of the array:\", np.mean(rand_arr))\n",
        "print(\"Maximum element in the array:\", np.max(rand_arr))\n",
        "print(\"Minimum element in the array:\", np.min(rand_arr))\n",
        "print(\"Standard deviation of the array:\", np.std(rand_arr))"
      ],
      "metadata": {
        "colab": {
          "base_uri": "https://localhost:8080/"
        },
        "id": "aTu1jVC5d-Sz",
        "outputId": "5ac39ba3-6fd0-485a-d54a-1f09a56defcb"
      },
      "execution_count": 2,
      "outputs": [
        {
          "output_type": "stream",
          "name": "stdout",
          "text": [
            "Original array: [0.58987383 0.25690056 0.05969411 0.08670997 0.77947612 0.10757379\n",
            " 0.94894706 0.57514267 0.91194847 0.00754439]\n",
            "Mean of the array: 0.43238109495505095\n",
            "Maximum element in the array: 0.9489470565226171\n",
            "Minimum element in the array: 0.007544386884008714\n",
            "Standard deviation of the array: 0.3518023014387581\n"
          ]
        }
      ]
    }
  ]
}