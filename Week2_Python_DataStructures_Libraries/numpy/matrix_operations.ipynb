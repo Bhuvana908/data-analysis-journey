{
  "nbformat": 4,
  "nbformat_minor": 0,
  "metadata": {
    "colab": {
      "provenance": []
    },
    "kernelspec": {
      "name": "python3",
      "display_name": "Python 3"
    },
    "language_info": {
      "name": "python"
    }
  },
  "cells": [
    {
      "cell_type": "markdown",
      "source": [
        "# NumPy Matrix Operations\n",
        "This notebook demonstrates basic matrix operations using the **NumPy** library in Python.  \n",
        "\n",
        "Users can:\n",
        "1. Define two matrices `A` and `B`  \n",
        "2. Perform element-wise addition of matrices  \n",
        "3. Calculate the dot product of two matrices  \n",
        "4. Find the transpose of a matrix  \n",
        "5. Compute the determinant of a matrix using `np.linalg.det()`  \n",
        "\n",
        "This project demonstrates the use of **NumPy matrix manipulation, linear algebra operations, and mathematical functions**, which are widely used in **data science and machine learning**.\n"
      ],
      "metadata": {
        "id": "RmM-RKjIgnqE"
      }
    },
    {
      "cell_type": "code",
      "source": [
        "import numpy as np\n",
        "\n",
        "A=np.array([[3,5], [2,7]])\n",
        "B=np.array([[4,7], [6,8]])\n",
        "\n",
        "print(\"Addition of two matrices:\", A+B)\n",
        "print(\"Dot product of two matrices:\", np.dot(A,B))\n",
        "print(\"Transpose of A:\", A.T)\n",
        "print(\"Determinant of B:\", np.linalg.det(B))"
      ],
      "metadata": {
        "colab": {
          "base_uri": "https://localhost:8080/"
        },
        "id": "Wt-fqF4effd9",
        "outputId": "d489e822-a721-4442-c5d7-e287c5a98373"
      },
      "execution_count": 1,
      "outputs": [
        {
          "output_type": "stream",
          "name": "stdout",
          "text": [
            "Addition of two matrices: [[ 7 12]\n",
            " [ 8 15]]\n",
            "Dot product of two matrices: [[42 61]\n",
            " [50 70]]\n",
            "Transpose of A: [[3 2]\n",
            " [5 7]]\n",
            "Determinant of B: -10.000000000000002\n"
          ]
        }
      ]
    }
  ]
}