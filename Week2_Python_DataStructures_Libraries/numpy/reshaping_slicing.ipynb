{
  "nbformat": 4,
  "nbformat_minor": 0,
  "metadata": {
    "colab": {
      "provenance": []
    },
    "kernelspec": {
      "name": "python3",
      "display_name": "Python 3"
    },
    "language_info": {
      "name": "python"
    }
  },
  "cells": [
    {
      "cell_type": "markdown",
      "source": [
        "# NumPy Reshaping and Slicing\n",
        "This notebook demonstrates how to reshape and slice arrays using the **NumPy** library in Python.  \n",
        "\n",
        "Users can:\n",
        "1. Create a 1D array using `np.arange()`  \n",
        "2. Reshape the array into a 2D matrix  \n",
        "3. Access specific rows and columns  \n",
        "4. Extract a sub-matrix using slicing  \n",
        "\n",
        "This project demonstrates the use of **NumPy array reshaping, indexing, and slicing techniques**, which are essential for **data manipulation and analysis**.\n"
      ],
      "metadata": {
        "id": "vAqM_Co0dfCI"
      }
    },
    {
      "cell_type": "code",
      "source": [
        "import numpy as np\n",
        "arr1=np.arange(1,13)\n",
        "print(\"Original array:\", arr1)\n",
        "arr2=arr1.reshape(3,4)\n",
        "print(\"Array after reshaping:\", arr2)\n",
        "print(\"First row:\", arr2[0 ,:])\n",
        "print(\"Second column:\", arr2[:,1])\n",
        "print(\"Sub matrix:\", arr2[1:3, 2:4])"
      ],
      "metadata": {
        "colab": {
          "base_uri": "https://localhost:8080/"
        },
        "id": "gxGuUW5wbf4w",
        "outputId": "17e36743-7ec4-4e7d-ae2a-9415662eda3f"
      },
      "execution_count": 7,
      "outputs": [
        {
          "output_type": "stream",
          "name": "stdout",
          "text": [
            "Original array: [ 1  2  3  4  5  6  7  8  9 10 11 12]\n",
            "Array after reshaping: [[ 1  2  3  4]\n",
            " [ 5  6  7  8]\n",
            " [ 9 10 11 12]]\n",
            "First row: [1 2 3 4]\n",
            "Second column: [ 2  6 10]\n",
            "Sub matrix: [[ 7  8]\n",
            " [11 12]]\n"
          ]
        }
      ]
    }
  ]
}