{
  "nbformat": 4,
  "nbformat_minor": 0,
  "metadata": {
    "colab": {
      "provenance": []
    },
    "kernelspec": {
      "name": "python3",
      "display_name": "Python 3"
    },
    "language_info": {
      "name": "python"
    }
  },
  "cells": [
    {
      "cell_type": "markdown",
      "source": [
        "# NumPy Array Operations 🔢⚡\n",
        "This notebook demonstrates basic operations using the **NumPy** library in Python.  \n",
        "\n",
        "Users can:\n",
        "1. Define two NumPy arrays (`arr1` and `arr2`)  \n",
        "2. Perform element-wise addition of two arrays  \n",
        "3. Multiply an array by a scalar  \n",
        "4. Calculate the square root of all elements in an array  \n",
        "5. Find the sum of all elements in an array  \n",
        "\n",
        "This project demonstrates the use of **NumPy arrays and mathematical operations**, which are essential for **data analysis and scientific computing**.\n"
      ],
      "metadata": {
        "id": "pS5EsX1hazrL"
      }
    },
    {
      "cell_type": "code",
      "source": [
        "import numpy as np\n",
        "arr1=np.array([[1,2], [3,4]])\n",
        "arr2=np.array([[6,9], [2,5]])\n",
        "\n",
        "print(\"Array 1:\", arr1)\n",
        "print(\"Array 2:\", arr2)\n",
        "\n",
        "print(\"Addition of two arrays:\", np.add(arr1,arr2))\n",
        "print(\"arr1 multiplied by 2:\", arr1*2)\n",
        "print(\"Square root of arr2:\", np.sqrt(arr2))\n",
        "print(\"Sum of all elements in arr1:\", np.sum(arr1))"
      ],
      "metadata": {
        "colab": {
          "base_uri": "https://localhost:8080/"
        },
        "id": "D8cldRKtZCfP",
        "outputId": "d73e854b-aed4-4d89-a09d-22111e04e312"
      },
      "execution_count": 4,
      "outputs": [
        {
          "output_type": "stream",
          "name": "stdout",
          "text": [
            "Array 1: [[1 2]\n",
            " [3 4]]\n",
            "Array 2: [[6 9]\n",
            " [2 5]]\n",
            "Addition of two arrays:\n",
            " [[ 7 11]\n",
            " [ 5  9]]\n",
            "arr1 multiplied by 2: [[2 4]\n",
            " [6 8]]\n",
            "Square root of arr2: [[2.44948974 3.        ]\n",
            " [1.41421356 2.23606798]]\n",
            "Sum of all elements in arr1: 10\n"
          ]
        }
      ]
    }
  ]
}