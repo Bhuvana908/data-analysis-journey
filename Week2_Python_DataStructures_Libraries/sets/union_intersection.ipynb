{
  "nbformat": 4,
  "nbformat_minor": 0,
  "metadata": {
    "colab": {
      "provenance": []
    },
    "kernelspec": {
      "name": "python3",
      "display_name": "Python 3"
    },
    "language_info": {
      "name": "python"
    }
  },
  "cells": [
    {
      "cell_type": "markdown",
      "source": [
        "# Union and Intersection of Sets 🔗\n",
        "This notebook demonstrates how to perform **union** and **intersection** operations on Python sets.  \n",
        "\n",
        "Users can:\n",
        "1. Define two sets (`s1` and `s2`)  \n",
        "2. Perform the **union** operation to combine elements from both sets (without duplicates)  \n",
        "3. Perform the **intersection** operation to find common elements between the sets  \n",
        "4. Print the results  \n",
        "\n",
        "This project demonstrates the use of **Python sets and their built-in methods (`union`, `intersection`)**.\n"
      ],
      "metadata": {
        "id": "5I9iB5B2JEig"
      }
    },
    {
      "cell_type": "code",
      "source": [
        "s1={2,4,6,8}\n",
        "s2={2,4}\n",
        "print(\"Union:\", s1.union(s2))\n",
        "print(\"Intersection:\", s1.intersection(s2))"
      ],
      "metadata": {
        "colab": {
          "base_uri": "https://localhost:8080/"
        },
        "id": "u5xFhiqCIuZe",
        "outputId": "33156be1-3af8-46c3-b261-b122c2de6c37"
      },
      "execution_count": 1,
      "outputs": [
        {
          "output_type": "stream",
          "name": "stdout",
          "text": [
            "Union: {2, 4, 6, 8}\n",
            "Intersection: {2, 4}\n"
          ]
        }
      ]
    }
  ]
}