{
  "nbformat": 4,
  "nbformat_minor": 0,
  "metadata": {
    "colab": {
      "provenance": []
    },
    "kernelspec": {
      "name": "python3",
      "display_name": "Python 3"
    },
    "language_info": {
      "name": "python"
    }
  },
  "cells": [
    {
      "cell_type": "markdown",
      "source": [
        "# Subset Check using Sets ✅\n",
        "This notebook demonstrates how to check if one set is a subset of another in Python.  \n",
        "\n",
        "Users can:\n",
        "1. Define two sets (`s1` and `s2`)  \n",
        "2. The program checks if all elements of `s2` exist in `s1`  \n",
        "3. Prints whether `s2` is a subset of `s1`  \n",
        "\n",
        "This project demonstrates the use of **Python sets, loops, conditional statements, and subset logic**.\n"
      ],
      "metadata": {
        "id": "R_Nze3WTIPcC"
      }
    },
    {
      "cell_type": "code",
      "source": [
        "def subset_check(s1,s2):\n",
        "  for element in s2:\n",
        "    if element not in s1:\n",
        "      return False\n",
        "    return True\n",
        "s1={2,4,6,8}\n",
        "s2={2,4}\n",
        "subset_check(s1,s2)\n",
        "if subset_check:\n",
        "  print(\"s2 is subset of s1\")\n",
        "else:\n",
        "  print(\"s2 is not subset of s1\")"
      ],
      "metadata": {
        "colab": {
          "base_uri": "https://localhost:8080/"
        },
        "id": "WpTtby3XHOP8",
        "outputId": "14ae69b1-3987-4d3f-cceb-f4c8f3b11f4c"
      },
      "execution_count": 4,
      "outputs": [
        {
          "output_type": "stream",
          "name": "stdout",
          "text": [
            "s2 is subset of s1\n"
          ]
        }
      ]
    }
  ]
}