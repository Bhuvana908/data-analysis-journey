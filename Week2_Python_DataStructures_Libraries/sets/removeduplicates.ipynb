{
  "nbformat": 4,
  "nbformat_minor": 0,
  "metadata": {
    "colab": {
      "provenance": []
    },
    "kernelspec": {
      "name": "python3",
      "display_name": "Python 3"
    },
    "language_info": {
      "name": "python"
    }
  },
  "cells": [
    {
      "cell_type": "markdown",
      "source": [
        "# Remove Duplicates from a List 🧹\n",
        "This notebook demonstrates how to remove duplicate elements from a Python list.  \n",
        "\n",
        "Users can:\n",
        "1. Input the size of the list  \n",
        "2. Enter elements one by one  \n",
        "3. The program converts the list into a `set` (which automatically removes duplicates)  \n",
        "4. Prints the new list without duplicates  \n",
        "\n",
        "This project demonstrates the use of **Python lists, sets, loops, and type conversion**.\n"
      ],
      "metadata": {
        "id": "xDxuZLRcGcGV"
      }
    },
    {
      "cell_type": "code",
      "source": [
        "n=int(input(\"Enter the size of the list:\"))\n",
        "print(\"Enter the elements of the list:\")\n",
        "l=[]\n",
        "for i in range(n):\n",
        "  num=input()\n",
        "  l.append(num)\n",
        "removeduplicates=list(set(l))\n",
        "print(removeduplicates)"
      ],
      "metadata": {
        "colab": {
          "base_uri": "https://localhost:8080/"
        },
        "id": "TLk3neVUF3iD",
        "outputId": "4e93ec55-7989-4ce1-f8e6-f982fd3c3f2b"
      },
      "execution_count": 3,
      "outputs": [
        {
          "output_type": "stream",
          "name": "stdout",
          "text": [
            "Enter the size of the list:4\n",
            "Enter the elements of the list:\n",
            "1\n",
            "2\n",
            "2\n",
            "3\n",
            "['1', '3', '2']\n"
          ]
        }
      ]
    }
  ]
}