{
  "nbformat": 4,
  "nbformat_minor": 0,
  "metadata": {
    "colab": {
      "provenance": []
    },
    "kernelspec": {
      "name": "python3",
      "display_name": "Python 3"
    },
    "language_info": {
      "name": "python"
    }
  },
  "cells": [
    {
      "cell_type": "markdown",
      "source": [
        "# Merge Two Dictionaries 🗂️➕🗂️\n",
        "This notebook demonstrates how to create two Python dictionaries from user input and merge them into a single dictionary.  \n",
        "\n",
        "Users can:\n",
        "1. Input the size of the first dictionary and add key-value pairs\n",
        "2. Input the size of the second dictionary and add key-value pairs\n",
        "3. Merge both dictionaries into one\n",
        "4. Print the merged dictionary  \n",
        "\n",
        "This project demonstrates the use of **Python dictionaries, loops, user input, and dictionary merging operations**.\n"
      ],
      "metadata": {
        "id": "o4-XKAQXuKeV"
      }
    },
    {
      "cell_type": "code",
      "source": [
        "d1={}\n",
        "m=int(input(\"Enter the size of the dictionary:\"))\n",
        "for i in range(m):\n",
        "  key=input(\"Enter key:\")\n",
        "  value=input(\"Enter value:\")\n",
        "  d1[key]=value\n",
        "\n",
        "d2={}\n",
        "n=int(input(\"Enter the size of the dictionary:\"))\n",
        "for i in range(n):\n",
        "  key=input(\"Enter key:\")\n",
        "  value=input(\"Enter value:\")\n",
        "  d2[key]=value\n",
        "\n",
        "merged_dict=d1|d2\n",
        "print(merged_dict)"
      ],
      "metadata": {
        "colab": {
          "base_uri": "https://localhost:8080/"
        },
        "id": "ndMtNVg4uLAm",
        "outputId": "34ca7861-34ba-460a-a03f-cc0efd650e91"
      },
      "execution_count": 4,
      "outputs": [
        {
          "output_type": "stream",
          "name": "stdout",
          "text": [
            "Enter the size of the dictionary:3\n",
            "Enter key:1\n",
            "Enter value:I\n",
            "Enter key:2\n",
            "Enter value:love\n",
            "Enter key:3\n",
            "Enter value:Python\n",
            "Enter the size of the dictionary:3\n",
            "Enter key:4\n",
            "Enter value:I\n",
            "Enter key:5\n",
            "Enter value:love\n",
            "Enter key:6\n",
            "Enter value:coding\n",
            "{'1': 'I', '2': 'love', '3': 'Python', '4': 'I', '5': 'love', '6': 'coding'}\n"
          ]
        }
      ]
    }
  ]
}