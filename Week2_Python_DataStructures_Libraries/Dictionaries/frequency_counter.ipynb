{
  "nbformat": 4,
  "nbformat_minor": 0,
  "metadata": {
    "colab": {
      "provenance": []
    },
    "kernelspec": {
      "name": "python3",
      "display_name": "Python 3"
    },
    "language_info": {
      "name": "python"
    }
  },
  "cells": [
    {
      "cell_type": "markdown",
      "source": [
        "# Word Frequency Counter 📝\n",
        "This notebook demonstrates how to count the frequency of each word in a given string using a Python dictionary.  \n",
        "\n",
        "Users can:\n",
        "1. Input any text or sentence\n",
        "2. Split the text into words\n",
        "3. Count how many times each word appears\n",
        "4. Print the frequency of each word  \n",
        "\n",
        "This project demonstrates the use of **Python dictionaries, loops, string manipulation, and the `dict.get()` method**.\n"
      ],
      "metadata": {
        "id": "VXSI-2hcyHqD"
      }
    },
    {
      "cell_type": "code",
      "source": [
        "text=input(\"Enter the string:\")\n",
        "freq = {}\n",
        "\n",
        "for word in text.split():\n",
        "    freq[word] = freq.get(word, 0) + 1\n",
        "\n",
        "print(freq)\n"
      ],
      "metadata": {
        "colab": {
          "base_uri": "https://localhost:8080/"
        },
        "id": "yG8Ok_wPwdYe",
        "outputId": "c38572c0-4331-43b9-99e6-0d27bea584e3"
      },
      "execution_count": 3,
      "outputs": [
        {
          "output_type": "stream",
          "name": "stdout",
          "text": [
            "Enter the string:Hello Everyone\n",
            "{'Hello': 1, 'Everyone': 1}\n"
          ]
        }
      ]
    }
  ]
}