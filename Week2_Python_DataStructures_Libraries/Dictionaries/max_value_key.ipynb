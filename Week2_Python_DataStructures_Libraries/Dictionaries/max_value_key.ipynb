{
  "nbformat": 4,
  "nbformat_minor": 0,
  "metadata": {
    "colab": {
      "provenance": []
    },
    "kernelspec": {
      "name": "python3",
      "display_name": "Python 3"
    },
    "language_info": {
      "name": "python"
    }
  },
  "cells": [
    {
      "cell_type": "markdown",
      "source": [
        "# Dictionary Maximum Value Key Finder 🗂️\n",
        "This notebook demonstrates how to create a Python dictionary from user input and find the key(s) corresponding to the longest value.  \n",
        "\n",
        "Users can:\n",
        "1. Input the size of the dictionary\n",
        "2. Enter key-value pairs\n",
        "3. Identify the value with the maximum length\n",
        "4. Print the key(s) corresponding to that value  \n",
        "\n",
        "This project demonstrates the use of **Python dictionaries, loops, conditional statements, and built-in functions**."
      ],
      "metadata": {
        "id": "K94bynsNrEa0"
      }
    },
    {
      "cell_type": "code",
      "source": [
        "d={}\n",
        "n=int(input(\"Enter the size of the dictionary:\"))\n",
        "for i in range(n):\n",
        "  key=input(\"Enter key:\")\n",
        "  value=input(\"Enter value:\")\n",
        "  d[key]=value\n",
        "max_value=max(d.values(), key=len)\n",
        "for key, value in d.items():\n",
        "  if value==max_value:\n",
        "    print(key)"
      ],
      "metadata": {
        "colab": {
          "base_uri": "https://localhost:8080/"
        },
        "id": "F-aq-E_xrExP",
        "outputId": "f4966e8d-1035-4a99-b7a5-00e4e0a78f63"
      },
      "execution_count": 3,
      "outputs": [
        {
          "output_type": "stream",
          "name": "stdout",
          "text": [
            "Enter the size of the dictionary:3\n",
            "Enter key:1\n",
            "Enter value:I\n",
            "Enter key:2\n",
            "Enter value:love\n",
            "Enter key:3\n",
            "Enter value:Python\n",
            "3\n"
          ]
        }
      ]
    }
  ]
}