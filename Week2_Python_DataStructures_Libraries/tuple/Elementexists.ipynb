{
  "nbformat": 4,
  "nbformat_minor": 0,
  "metadata": {
    "colab": {
      "provenance": []
    },
    "kernelspec": {
      "name": "python3",
      "display_name": "Python 3"
    },
    "language_info": {
      "name": "python"
    }
  },
  "cells": [
    {
      "cell_type": "markdown",
      "source": [
        "# Check if an Element Exists in a Tuple 🔍\n",
        "This notebook demonstrates how to check whether a given value exists in a Python tuple.  \n",
        "\n",
        "Users can:\n",
        "1. Define a tuple of elements  \n",
        "2. Input a value to search for  \n",
        "3. The program checks if the value exists in the tuple  \n",
        "4. Prints whether the element was found or not  \n",
        "\n",
        "This project demonstrates the use of **Python tuples, conditional statements, and the `in` operator**.\n"
      ],
      "metadata": {
        "id": "KdLZWNxXN208"
      }
    },
    {
      "cell_type": "code",
      "source": [
        "def elementexists(t,val):\n",
        "  if val in t:\n",
        "      print(\"Element is found\")\n",
        "  else:\n",
        "      print(\"Element is not found\")\n",
        "t=(1,2,3,4,5,6)\n",
        "val=int(input(\"Enter the value:\"))\n",
        "elementexists(t,val)"
      ],
      "metadata": {
        "colab": {
          "base_uri": "https://localhost:8080/"
        },
        "id": "KBogGRI9MehI",
        "outputId": "3f4dcad3-49d9-4746-9c7d-f6a43b6f9037"
      },
      "execution_count": 6,
      "outputs": [
        {
          "output_type": "stream",
          "name": "stdout",
          "text": [
            "Enter the value:4\n",
            "Element is found\n"
          ]
        }
      ]
    }
  ]
}