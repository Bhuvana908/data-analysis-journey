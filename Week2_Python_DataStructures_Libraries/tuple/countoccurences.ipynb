{
  "nbformat": 4,
  "nbformat_minor": 0,
  "metadata": {
    "colab": {
      "provenance": []
    },
    "kernelspec": {
      "name": "python3",
      "display_name": "Python 3"
    },
    "language_info": {
      "name": "python"
    }
  },
  "cells": [
    {
      "cell_type": "markdown",
      "source": [
        "# Count Occurrences in a Tuple 🔢\n",
        "This notebook demonstrates how to count how many times a specific value appears in a Python tuple.  \n",
        "\n",
        "Users can:\n",
        "1. Define a tuple of elements  \n",
        "2. Input a value to check within the tuple  \n",
        "3. The program iterates through the tuple and counts the occurrences of that value  \n",
        "4. Prints the count  \n",
        "\n",
        "This project demonstrates the use of **Python tuples, loops, conditionals, and counting techniques**.\n"
      ],
      "metadata": {
        "id": "HmA0JSyvLvJe"
      }
    },
    {
      "cell_type": "code",
      "source": [
        "def occurences(t,val):\n",
        "  count=0\n",
        "  for i in range(len(t)):\n",
        "    if t[i]==val:\n",
        "      count+=1\n",
        "  return count\n",
        "t=(1,2,3,4)\n",
        "val=int(input(\"Enter the value to find occurences in tuple:\"))\n",
        "print(\"Count:\", occurences(t,val))"
      ],
      "metadata": {
        "colab": {
          "base_uri": "https://localhost:8080/"
        },
        "id": "8-mDjWBqK5OM",
        "outputId": "8c6503b5-9b7b-4151-fa41-49dd54938736"
      },
      "execution_count": 2,
      "outputs": [
        {
          "output_type": "stream",
          "name": "stdout",
          "text": [
            "Enter the value to find occurences in tuple:3\n",
            "Count: 1\n"
          ]
        }
      ]
    }
  ]
}