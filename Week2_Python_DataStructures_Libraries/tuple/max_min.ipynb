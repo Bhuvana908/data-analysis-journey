{
  "nbformat": 4,
  "nbformat_minor": 0,
  "metadata": {
    "colab": {
      "provenance": []
    },
    "kernelspec": {
      "name": "python3",
      "display_name": "Python 3"
    },
    "language_info": {
      "name": "python"
    }
  },
  "cells": [
    {
      "cell_type": "markdown",
      "source": [
        "# Find Maximum and Minimum in a Tuple ⬆️⬇️\n",
        "This notebook demonstrates how to find the maximum and minimum values in a Python tuple.  \n",
        "\n",
        "Users can:\n",
        "1. Define a tuple of numeric elements  \n",
        "2. The program calculates the maximum and minimum values  \n",
        "3. Prints both results as a tuple `(max, min)`  \n",
        "\n",
        "This project demonstrates the use of **Python tuples and built-in functions (`max`, `min`)**.\n"
      ],
      "metadata": {
        "id": "YAoKnL1iO4T7"
      }
    },
    {
      "cell_type": "code",
      "source": [
        "def max_min(t):\n",
        "  maxt=max(t)\n",
        "  mint=min(t)\n",
        "  return maxt,mint\n",
        "t=(4,1,7,4,2)\n",
        "print(\"Maximum and Minimum:\", max_min(t))"
      ],
      "metadata": {
        "colab": {
          "base_uri": "https://localhost:8080/"
        },
        "id": "s85PHAqxOLV4",
        "outputId": "a5a6a2db-b992-4cd6-ae40-62f7e7f544a1"
      },
      "execution_count": 1,
      "outputs": [
        {
          "output_type": "stream",
          "name": "stdout",
          "text": [
            "Maximum and Minimum: (7, 1)\n"
          ]
        }
      ]
    }
  ]
}