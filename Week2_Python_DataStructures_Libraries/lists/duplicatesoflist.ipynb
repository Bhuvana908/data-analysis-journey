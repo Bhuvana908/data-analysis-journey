{
  "nbformat": 4,
  "nbformat_minor": 0,
  "metadata": {
    "colab": {
      "provenance": []
    },
    "kernelspec": {
      "name": "python3",
      "display_name": "Python 3"
    },
    "language_info": {
      "name": "python"
    }
  },
  "cells": [
    {
      "cell_type": "markdown",
      "source": [
        "# Find Duplicate Elements in a List 🔁\n",
        "This notebook demonstrates how to identify duplicate elements in a Python list.  \n",
        "\n",
        "Users can:\n",
        "1. Input the size of the list\n",
        "2. Enter elements one by one\n",
        "3. The program sorts the list and finds all duplicate elements\n",
        "4. Prints the duplicates  \n",
        "\n",
        "This project demonstrates the use of **Python lists, loops, sorting, and basic problem-solving techniques**.\n"
      ],
      "metadata": {
        "id": "uB1kER4__EH5"
      }
    },
    {
      "cell_type": "code",
      "source": [
        "def duplicates(l):\n",
        "  l.sort()\n",
        "  duplicates=[]\n",
        "  for i in range(len(l)-1):\n",
        "    if l[i]==l[i+1]:\n",
        "      duplicates.append(l[i])\n",
        "  return duplicates\n",
        "n=int(input(\"Enter the size of the list:\"))\n",
        "print(\"Enter the elements of the list:\")\n",
        "l=[]\n",
        "for i in range(n):\n",
        "  num=input()\n",
        "  l.append(num)\n",
        "print(duplicates(l))\n"
      ],
      "metadata": {
        "colab": {
          "base_uri": "https://localhost:8080/"
        },
        "id": "u2E_ZMAu9QSo",
        "outputId": "013b9068-1b28-44d7-8bec-2e88c3fe5a4f"
      },
      "execution_count": 5,
      "outputs": [
        {
          "output_type": "stream",
          "name": "stdout",
          "text": [
            "Enter the size of the list:4\n",
            "Enter the elements of the list:\n",
            "1\n",
            "2\n",
            "2\n",
            "3\n",
            "['2']\n"
          ]
        }
      ]
    }
  ]
}