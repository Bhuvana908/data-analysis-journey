{
  "nbformat": 4,
  "nbformat_minor": 0,
  "metadata": {
    "colab": {
      "provenance": []
    },
    "kernelspec": {
      "name": "python3",
      "display_name": "Python 3"
    },
    "language_info": {
      "name": "python"
    }
  },
  "cells": [
    {
      "cell_type": "markdown",
      "source": [
        "# Reverse a List 🔄\n",
        "This notebook demonstrates how to reverse the elements of a Python list.  \n",
        "\n",
        "Users can:\n",
        "1. Input the size of the list\n",
        "2. Enter elements one by one\n",
        "3. The program reverses the order of the elements\n",
        "4. Prints the reversed list  \n",
        "\n",
        "This project demonstrates the use of **Python lists, loops, and basic list operations**.\n"
      ],
      "metadata": {
        "id": "yiSsIu1WA7gl"
      }
    },
    {
      "cell_type": "code",
      "source": [
        "n=int(input(\"Enter the size of the list:\"))\n",
        "print(\"Enter the elements of the list:\")\n",
        "l=[]\n",
        "for i in range(n):\n",
        "  num=input()\n",
        "  l.append(num)\n",
        "l.reverse()\n",
        "print(l)"
      ],
      "metadata": {
        "colab": {
          "base_uri": "https://localhost:8080/"
        },
        "id": "QgIhFlst_w9b",
        "outputId": "eed58d19-4e19-483f-d1de-dcddb1a88ef3"
      },
      "execution_count": 2,
      "outputs": [
        {
          "output_type": "stream",
          "name": "stdout",
          "text": [
            "Enter the size of the list:4\n",
            "Enter the elements of the list:\n",
            "1\n",
            "2\n",
            "3\n",
            "4\n",
            "['4', '3', '2', '1']\n"
          ]
        }
      ]
    }
  ]
}