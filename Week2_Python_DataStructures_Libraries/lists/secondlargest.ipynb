{
  "nbformat": 4,
  "nbformat_minor": 0,
  "metadata": {
    "colab": {
      "provenance": []
    },
    "kernelspec": {
      "name": "python3",
      "display_name": "Python 3"
    },
    "language_info": {
      "name": "python"
    }
  },
  "cells": [
    {
      "cell_type": "markdown",
      "source": [
        "# Find the Second Largest Element in a List 🥈\n",
        "This notebook demonstrates how to find the second largest element in a Python list.  \n",
        "\n",
        "Users can:\n",
        "1. Input the size of the list  \n",
        "2. Enter elements one by one  \n",
        "3. The program finds the largest element, removes it, and then identifies the second largest  \n",
        "4. Prints the second largest element  \n",
        "\n",
        "This project demonstrates the use of **Python lists, loops, built-in functions (`max`), and list copying/removal techniques**.\n"
      ],
      "metadata": {
        "id": "j6izudAKFLD1"
      }
    },
    {
      "cell_type": "code",
      "source": [
        "def secondlargest(l):\n",
        "  largest=max(l)\n",
        "  l2=l.copy()\n",
        "  l2.remove(largest)\n",
        "  secondlargest=max(l2)\n",
        "  return secondlargest\n",
        "\n",
        "n=int(input(\"Enter the size of the list:\"))\n",
        "print(\"Enter the elements of the list:\")\n",
        "l=[]\n",
        "for i in range(n):\n",
        "  num=input()\n",
        "  l.append(num)\n",
        "print(\"Second largest element is \",secondlargest(l))\n"
      ],
      "metadata": {
        "colab": {
          "base_uri": "https://localhost:8080/"
        },
        "id": "z4pxdTd_BdvO",
        "outputId": "62f4aa33-4c70-46a9-a1a1-859bd92eda6d"
      },
      "execution_count": 4,
      "outputs": [
        {
          "output_type": "stream",
          "name": "stdout",
          "text": [
            "Enter the size of the list:4\n",
            "Enter the elements of the list:\n",
            "1\n",
            "2\n",
            "3\n",
            "4\n",
            "Second largest element is  3\n"
          ]
        }
      ]
    }
  ]
}